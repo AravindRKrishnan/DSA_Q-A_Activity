{
  "nbformat": 4,
  "nbformat_minor": 0,
  "metadata": {
    "kernelspec": {
      "display_name": "Python 3",
      "language": "python",
      "name": "python3"
    },
    "language_info": {
      "codemirror_mode": {
        "name": "ipython",
        "version": 3
      },
      "file_extension": ".py",
      "mimetype": "text/x-python",
      "name": "python",
      "nbconvert_exporter": "python",
      "pygments_lexer": "ipython3",
      "version": "3.7.6"
    },
    "colab": {
      "name": "Q&A activity student file.ipynb",
      "provenance": [],
      "collapsed_sections": []
    }
  },
  "cells": [
    {
      "cell_type": "markdown",
      "metadata": {
        "id": "4z_Z-K1tlrS7"
      },
      "source": [
        "## 1. Complete the following code to find the area of an equilateral triangle. Output should be as displayed"
      ]
    },
    {
      "cell_type": "code",
      "metadata": {
        "id": "rP2qFD_SlrS_",
        "colab": {
          "base_uri": "https://localhost:8080/"
        },
        "outputId": "c3aaf35d-a160-451d-f1bf-ee02c3b7ea77"
      },
      "source": [
        "import math\n",
        "side = float(\"Enter the side of the equilateral triangle: \")\n",
        "area = ((math.sqrt(3))/4)*pow(side,2)\n"
      ],
      "execution_count": null,
      "outputs": [
        {
          "output_type": "stream",
          "name": "stdout",
          "text": [
            "Enter the side of the equilateral triangle: 4\n",
            "Area =  6.928\n"
          ]
        }
      ]
    },
    {
      "cell_type": "markdown",
      "metadata": {
        "id": "TjVKjIfclrTB"
      },
      "source": [
        "## 2. Write a program to count the number of each characters in a string"
      ]
    },
    {
      "cell_type": "code",
      "metadata": {
        "id": "JY5seVUQlrTC",
        "colab": {
          "base_uri": "https://localhost:8080/"
        },
        "outputId": "b1e24017-b737-4528-e350-d8ccd052182f"
      },
      "source": [
        "s = input(\" Enter the string: \")\n",
        " \n",
        "freq = {} \n",
        " \n",
        "for char in s: \n",
        "    freq[char] = freq.get(char, 0) + 1 \n",
        "     \n",
        "print(freq) "
      ],
      "execution_count": 1,
      "outputs": [
        {
          "output_type": "stream",
          "name": "stdout",
          "text": [
            " Enter the string: Hello World\n",
            "{'H': 1, 'e': 1, 'l': 3, 'o': 2, ' ': 1, 'W': 1, 'r': 1, 'd': 1}\n"
          ]
        }
      ]
    },
    {
      "cell_type": "markdown",
      "metadata": {
        "id": "l3LCULfklrTD"
      },
      "source": [
        "## Write a program to find the area and perimeter of a rectangle using functions"
      ]
    },
    {
      "cell_type": "code",
      "metadata": {
        "id": "8haQD8edlrTD",
        "colab": {
          "base_uri": "https://localhost:8080/"
        },
        "outputId": "eb219777-a805-4d18-bd27-3832e6601e00"
      },
      "source": [
        "l = int(input('Enter the length of a Rectangle: '))\n",
        "b = int(input('Enter the breadth of a Rectangle: '))\n",
        "Area = l * b\n",
        "print(\"Area of a Rectangle is: \", Area)\n",
        "\n",
        "Perimeter = 2*(l+b) \n",
        "print(\"Perimeter of a Rectangle is: \", Perimeter)"
      ],
      "execution_count": 2,
      "outputs": [
        {
          "output_type": "stream",
          "name": "stdout",
          "text": [
            "Enter the length of a Rectangle: 4\n",
            "Enter the breadth of a Rectangle: 2\n",
            "Area of a Rectangle is:  8\n",
            "Perimeter of a Rectangle is:  12\n"
          ]
        }
      ]
    },
    {
      "cell_type": "markdown",
      "metadata": {
        "id": "JHK4ZdsflrTE"
      },
      "source": [
        "## 4. Write a program to print the fibonacci series till a specified number"
      ]
    },
    {
      "cell_type": "code",
      "metadata": {
        "id": "LyBEj-4SlrTE",
        "colab": {
          "base_uri": "https://localhost:8080/"
        },
        "outputId": "20a0b171-1e97-4d44-c916-bf18e17d4050"
      },
      "source": [
        "n = int(input(\"Enter the value of 'n': \"))\n",
        "a = 0\n",
        "b = 1\n",
        "sum = 0\n",
        "count = 1\n",
        "print(\"Fibonacci Series: \", end = \" \")\n",
        "while(count <= n):\n",
        "  print(sum, end = \" \")\n",
        "  count += 1\n",
        "  a = b\n",
        "  b = sum\n",
        "  sum = a + b"
      ],
      "execution_count": 3,
      "outputs": [
        {
          "output_type": "stream",
          "name": "stdout",
          "text": [
            "Enter the value of 'n': 9\n",
            "Fibonacci Series:  0 1 1 2 3 5 8 13 21 "
          ]
        }
      ]
    },
    {
      "cell_type": "markdown",
      "metadata": {
        "id": "u4uBUcQKlrTE"
      },
      "source": [
        "## 5. Complete the following code to find the minimum of 3 number using cinditional statements. Output should be as displayed"
      ]
    },
    {
      "cell_type": "code",
      "metadata": {
        "id": "XdZwrZjIlrTF",
        "colab": {
          "base_uri": "https://localhost:8080/"
        },
        "outputId": "0be631f1-7702-46b6-c61a-0a8d0b622d29"
      },
      "source": [
        "a,b,c = input(\"Enter three numbers: with a space in between \").split()\n",
        "\n",
        "print(\"First number :\",a)\n",
        "print(\"Second number :\",b)\n",
        "print(\"Third number :\",c)\n",
        "\n",
        "if a==b and b==c and a==c :\n",
        "    print(\"Entered numbers are equal!!!\")\n",
        "elif a<b and a<c :\n",
        "    print(a,\" is smallest\")\n",
        "elif b<c and b<a :\n",
        "    print(b,\" is smallest\")\n",
        "elif c<a and c<b :\n",
        "    print(c,\" is smallest\")"
      ],
      "execution_count": 6,
      "outputs": [
        {
          "output_type": "stream",
          "name": "stdout",
          "text": [
            "Enter three numbers: with a space in between -22 5 -11\n",
            "First number : -22\n",
            "Second number : 5\n",
            "Third number : -11\n",
            "-11  is smallest\n"
          ]
        }
      ]
    },
    {
      "cell_type": "code",
      "metadata": {
        "colab": {
          "base_uri": "https://localhost:8080/"
        },
        "id": "FTqqtb1yMB84",
        "outputId": "aefa444f-0f15-4571-9f7b-513468f993da"
      },
      "source": [
        "a,b,c = input(\"Enter three numbers followed by space : \").split()\n",
        "\n",
        "print(\"First number :\",a)\n",
        "print(\"Second number :\",b)\n",
        "print(\"Third number :\",c)\n",
        "\n",
        "    print(\"Entered numbers are equal!!!\")\n",
        "\n",
        "    print(a,\" is smallest\")\n",
        "\n",
        "    print(b,\" is smallest\")\n",
        "\n",
        "    print(c,\" is smallest\")\n"
      ],
      "execution_count": null,
      "outputs": [
        {
          "output_type": "stream",
          "name": "stdout",
          "text": [
            "Enter three numbers followed by  : 3 -11 12\n",
            "First number : 3\n",
            "Second number : -11\n",
            "Third number : 12\n",
            "-11  is smallest\n"
          ]
        }
      ]
    },
    {
      "cell_type": "markdown",
      "metadata": {
        "id": "aR_CnToWlrTG"
      },
      "source": [
        "## 6. Write a program to print star pyramind. The number of rows should be taken as input from the user"
      ]
    },
    {
      "cell_type": "code",
      "metadata": {
        "id": "M37A-buplrTG",
        "colab": {
          "base_uri": "https://localhost:8080/"
        },
        "outputId": "aa506510-77e4-41d8-a6ae-0c1d0c945368"
      },
      "source": [
        "rows = int(input(\"Enter number of rows: \"))\n",
        "\n",
        "for i in range(rows):\n",
        "    for j in range(i+1):\n",
        "        print(\"* \", end=\"\")\n",
        "    print(\"\\n\")"
      ],
      "execution_count": 5,
      "outputs": [
        {
          "output_type": "stream",
          "name": "stdout",
          "text": [
            "Enter number of rows: 3\n",
            "* \n",
            "\n",
            "* * \n",
            "\n",
            "* * * \n",
            "\n"
          ]
        }
      ]
    },
    {
      "cell_type": "markdown",
      "metadata": {
        "id": "tlY6aFWBlrTH"
      },
      "source": [
        "## 7. Complete the following code to convert hour into seconds. Output should be as displayed"
      ]
    },
    {
      "cell_type": "code",
      "metadata": {
        "id": "YOZQFk7FlrTH",
        "colab": {
          "base_uri": "https://localhost:8080/"
        },
        "outputId": "ef9821ae-5524-407d-9f46-6cbf7f39179a"
      },
      "source": [
        "def to_seconds(t):\n",
        "    t=t*60*60\n",
        "    return t\n",
        "time_in_hours = int(input(\"Enter time in hours:\"))\n",
        "print(time_in_hours,\"Hour is equal to\", to_seconds(time_in_hours),\"Seconds\")"
      ],
      "execution_count": 15,
      "outputs": [
        {
          "output_type": "stream",
          "name": "stdout",
          "text": [
            "Enter time in hours:10\n",
            "10 Hour is equal to 36000 Seconds\n"
          ]
        }
      ]
    },
    {
      "cell_type": "markdown",
      "metadata": {
        "id": "CnYorNiLlrTI"
      },
      "source": [
        "## 8. Write a program to print multiplication table as below"
      ]
    },
    {
      "cell_type": "code",
      "metadata": {
        "id": "dPQqDPuDlrTI",
        "colab": {
          "base_uri": "https://localhost:8080/"
        },
        "outputId": "b5a04d68-e365-432d-fbd2-ece8cb80db9a"
      },
      "source": [
        "number = int(input (\"Enter the number of which the user wants to print the multiplication table: \"))      \n",
        "      \n",
        "print (\"The Multiplication Table of: \", number)    \n",
        "for count in range(1, 11):      \n",
        "   print (number, 'x', count, '=', number * count)   \n",
        "   "
      ],
      "execution_count": 14,
      "outputs": [
        {
          "output_type": "stream",
          "name": "stdout",
          "text": [
            "Enter the number of which the user wants to print the multiplication table: 5\n",
            "The Multiplication Table of:  5\n",
            "5 x 1 = 5\n",
            "5 x 2 = 10\n",
            "5 x 3 = 15\n",
            "5 x 4 = 20\n",
            "5 x 5 = 25\n",
            "5 x 6 = 30\n",
            "5 x 7 = 35\n",
            "5 x 8 = 40\n",
            "5 x 9 = 45\n",
            "5 x 10 = 50\n"
          ]
        }
      ]
    },
    {
      "cell_type": "markdown",
      "metadata": {
        "id": "Fiaez8iblrTI"
      },
      "source": [
        "## 9. Write a program to take your 5 favorite food as list and print each as 'I like Biriyani'"
      ]
    },
    {
      "cell_type": "code",
      "metadata": {
        "id": "39W1zFX7lrTJ",
        "colab": {
          "base_uri": "https://localhost:8080/"
        },
        "outputId": "3650593f-755a-4c90-c377-09cb9fec179d"
      },
      "source": [
        "Food = input (\" Enter your favourite food list: \" ).split()\n",
        "for i in Food:\n",
        "  print('I Like',i)"
      ],
      "execution_count": 19,
      "outputs": [
        {
          "output_type": "stream",
          "name": "stdout",
          "text": [
            " Enter your favourite food list: Tea Coffee Orange Apple Grapes\n",
            "I Like Tea\n",
            "I Like Coffee\n",
            "I Like Orange\n",
            "I Like Apple\n",
            "I Like Grapes\n"
          ]
        }
      ]
    },
    {
      "cell_type": "markdown",
      "metadata": {
        "id": "3vlcDNNEP7d_"
      },
      "source": [
        "## 10. Find error(s) in the following code(if any) and rewrite code.\n",
        "\n"
      ]
    },
    {
      "cell_type": "code",
      "metadata": {
        "id": "coREkcY3P9sG",
        "colab": {
          "base_uri": "https://localhost:8080/"
        },
        "outputId": "e5a622f7-d9be-4cf9-9eb3-7ad22b577507"
      },
      "source": [
        "x=int(input(\"Enter value of x:\"))\n",
        "for y in range(0,10):\n",
        "  if x==y:\n",
        "    print(\"They are equal\")\n",
        "  else:\n",
        "    print(\"They are unequal\")"
      ],
      "execution_count": 21,
      "outputs": [
        {
          "output_type": "stream",
          "name": "stdout",
          "text": [
            "Enter value of x:6\n",
            "They are unequal\n",
            "They are unequal\n",
            "They are unequal\n",
            "They are unequal\n",
            "They are unequal\n",
            "They are unequal\n",
            "They are equal\n",
            "They are unequal\n",
            "They are unequal\n",
            "They are unequal\n"
          ]
        }
      ]
    }
  ]
}